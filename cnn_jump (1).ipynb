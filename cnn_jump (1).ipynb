{
  "nbformat": 4,
  "nbformat_minor": 0,
  "metadata": {
    "colab": {
      "name": "cnn_jump.ipynb",
      "version": "0.3.2",
      "views": {},
      "default_view": {},
      "provenance": [],
      "collapsed_sections": []
    },
    "kernelspec": {
      "name": "python3",
      "display_name": "Python 3"
    },
    "accelerator": "GPU"
  },
  "cells": [
    {
      "metadata": {
        "id": "KO2CLpVfUo0Z",
        "colab_type": "code",
        "colab": {
          "autoexec": {
            "startup": false,
            "wait_interval": 0
          }
        }
      },
      "cell_type": "code",
      "source": [
        ""
      ],
      "execution_count": 0,
      "outputs": []
    },
    {
      "metadata": {
        "id": "3WtCxNfqYznq",
        "colab_type": "code",
        "colab": {
          "autoexec": {
            "startup": false,
            "wait_interval": 0
          },
          "output_extras": [
            {
              "item_id": 1
            }
          ],
          "base_uri": "https://localhost:8080/",
          "height": 34
        },
        "outputId": "894da054-6e61-42e6-82fe-a91c8db66ca7",
        "executionInfo": {
          "status": "ok",
          "timestamp": 1517539251864,
          "user_tz": -480,
          "elapsed": 1627,
          "user": {
            "displayName": "瞿可",
            "photoUrl": "https://lh3.googleusercontent.com/a/default-user=s128",
            "userId": "108256564357329071493"
          }
        }
      },
      "cell_type": "code",
      "source": [
        "!ls"
      ],
      "execution_count": 1,
      "outputs": [
        {
          "output_type": "stream",
          "text": [
            "datalab\r\n"
          ],
          "name": "stdout"
        }
      ]
    },
    {
      "metadata": {
        "id": "TSICyvsRY0_z",
        "colab_type": "code",
        "colab": {
          "autoexec": {
            "startup": false,
            "wait_interval": 0
          },
          "output_extras": [
            {
              "item_id": 1
            }
          ],
          "base_uri": "https://localhost:8080/",
          "height": 34
        },
        "outputId": "71367bbc-bcd8-4930-c188-6f602450133c",
        "executionInfo": {
          "status": "ok",
          "timestamp": 1517732644535,
          "user_tz": -480,
          "elapsed": 1049,
          "user": {
            "displayName": "瞿可",
            "photoUrl": "https://lh3.googleusercontent.com/a/default-user=s128",
            "userId": "108256564357329071493"
          }
        }
      },
      "cell_type": "code",
      "source": [
        "!ls"
      ],
      "execution_count": 4,
      "outputs": [
        {
          "output_type": "stream",
          "text": [
            "datalab  drive\r\n"
          ],
          "name": "stdout"
        }
      ]
    },
    {
      "metadata": {
        "id": "9UDtpWLPY7Tz",
        "colab_type": "code",
        "colab": {
          "autoexec": {
            "startup": false,
            "wait_interval": 0
          }
        }
      },
      "cell_type": "code",
      "source": [
        "!mkdir -p drive\n",
        "!google-drive-ocamlfuse drive"
      ],
      "execution_count": 0,
      "outputs": []
    },
    {
      "metadata": {
        "id": "dmMelLcjZATM",
        "colab_type": "code",
        "colab": {
          "autoexec": {
            "startup": false,
            "wait_interval": 0
          },
          "output_extras": [
            {
              "item_id": 4
            }
          ],
          "base_uri": "https://localhost:8080/",
          "height": 104
        },
        "outputId": "fadcf57d-8110-4b6d-a501-b3d63ffe0c37",
        "executionInfo": {
          "status": "ok",
          "timestamp": 1517732231488,
          "user_tz": -480,
          "elapsed": 11473,
          "user": {
            "displayName": "瞿可",
            "photoUrl": "https://lh3.googleusercontent.com/a/default-user=s128",
            "userId": "108256564357329071493"
          }
        }
      },
      "cell_type": "code",
      "source": [
        "!apt-get install -y -qq software-properties-common python-software-properties module-init-tools\n",
        "!add-apt-repository -y ppa:alessandro-strada/ppa 2>&1 > /dev/null\n",
        "!apt-get update -qq 2>&1 > /dev/null\n",
        "!apt-get -y install -qq google-drive-ocamlfuse fuse\n",
        "from google.colab import auth\n",
        "auth.authenticate_user()\n",
        "from oauth2client.client import GoogleCredentials\n",
        "creds = GoogleCredentials.get_application_default()\n",
        "import getpass\n",
        "!google-drive-ocamlfuse -headless -id={creds.client_id} -secret={creds.client_secret} < /dev/null 2>&1 | grep URL\n",
        "vcode = getpass.getpass()\n",
        "!echo {vcode} | google-drive-ocamlfuse -headless -id={creds.client_id} -secret={creds.client_secret}\n"
      ],
      "execution_count": 1,
      "outputs": [
        {
          "output_type": "stream",
          "text": [
            "Please, open the following URL in a web browser: https://accounts.google.com/o/oauth2/auth?client_id=32555940559.apps.googleusercontent.com&redirect_uri=urn%3Aietf%3Awg%3Aoauth%3A2.0%3Aoob&scope=https%3A%2F%2Fwww.googleapis.com%2Fauth%2Fdrive&response_type=code&access_type=offline&approval_prompt=force\r\n",
            "··········\n",
            "Please, open the following URL in a web browser: https://accounts.google.com/o/oauth2/auth?client_id=32555940559.apps.googleusercontent.com&redirect_uri=urn%3Aietf%3Awg%3Aoauth%3A2.0%3Aoob&scope=https%3A%2F%2Fwww.googleapis.com%2Fauth%2Fdrive&response_type=code&access_type=offline&approval_prompt=force\n",
            "Please enter the verification code: Access token retrieved correctly.\n"
          ],
          "name": "stdout"
        }
      ]
    },
    {
      "metadata": {
        "id": "6U-tH--655vz",
        "colab_type": "code",
        "colab": {
          "autoexec": {
            "startup": false,
            "wait_interval": 0
          }
        }
      },
      "cell_type": "code",
      "source": [
        "import matplotlib.pyplot as plt\n",
        "import tensorflow as tf\n",
        "import numpy as np\n",
        "import time\n",
        "\n",
        "tf.reset_default_graph()\n",
        "start_time = time.time()\n",
        "\n",
        "def initial_parameters():\n",
        "    tf.set_random_seed(1)                              # so that your \"random\" numbers match ours\n",
        "    w1 = tf.get_variable('w1', [4, 4, 3, 8], dtype=tf.float32, initializer=tf.contrib.layers.xavier_initializer(seed=0))\n",
        "    w2 = tf.get_variable('w2', [2, 2, 8, 16], dtype=tf.float32, initializer=tf.contrib.layers.xavier_initializer(seed=0))\n",
        "    w3 = tf.get_variable('w3', [256, 1], dtype=tf.float32, initializer=tf.zeros_initializer)\n",
        "    parameters = {'w1': w1, 'w2': w2, 'w3': w3}\n",
        "    return parameters\n",
        "\n",
        "\n",
        "def forward_propagation(X, parameters):\n",
        "    w1 = parameters['w1']\n",
        "    w2 = parameters['w2']\n",
        "    w3 = parameters['w3']\n",
        "    Z1 = tf.nn.conv2d(X, w1, strides=[1, 1, 1, 1], padding='SAME')\n",
        "    A1 = tf.nn.relu(Z1)\n",
        "    P1 = tf.nn.max_pool(A1, ksize=[1, 8, 8, 1], strides=[1, 8, 8, 1], padding='SAME')\n",
        "    Z2 = tf.nn.conv2d(P1, w2, strides=[1, 1, 1, 1], padding=\"SAME\")\n",
        "    A2 = tf.nn.relu(Z2)\n",
        "    P2 = tf.nn.max_pool(A2, ksize=[1, 4, 4, 1], strides=[1, 4, 4, 1], padding='SAME')\n",
        "    P2 = tf.contrib.layers.flatten(P2)\n",
        "    Z3 = tf.matmul(P2, w3)\n",
        "#     dropout = tf.layers.dropout(inputs=Z3, rate=0.4, training=True)\n",
        "#     Z3 = tf.layers.dense(inputs=dropout, units=1, name='Z3')\n",
        "\n",
        "    # Z3 = tf.layers.Dense(inputs=P2, units=1, name='w3', activation=None)\n",
        "    return Z3\n",
        "\n",
        "\n",
        "def compute_cost(Z3, Y):\n",
        "    '''\n",
        "    利用tf.nn 计算损失函数\n",
        "    与nn不同在与 数据的排列方式不同了，nn是样本再axis1，这个是在axis0\n",
        "    '''\n",
        "    return tf.reduce_mean(tf.square(Z3-Y), name='compute_cost')\n",
        "\n",
        "\n",
        "def creat_place_holder(nH0, nW0, n_C0, n_y):\n",
        "    '''\n",
        "    创建x,y placeholder\n",
        "    还是数据排列方式不同了\n",
        "    '''\n",
        "    X = tf.placeholder(dtype=tf.float32, shape=[None, nH0, nW0, n_C0], name='X')\n",
        "    Y = tf.placeholder(dtype=tf.float32, shape=[None, n_y], name='Y')\n",
        "    return X, Y\n",
        "\n",
        "\n",
        "def load_data():\n",
        "    '''\n",
        "    载入数据并处理  包括归一化 和 转变独热码\n",
        "    数据不同reshape了\n",
        "    '''\n",
        "    train_x = np.array(np.load('drive/deep_learning/datasets/train_x.zip_files/train_x.npy'))\n",
        "    train_y = np.array(np.load('drive/deep_learning/datasets/train_y.npy'))\n",
        "    print(train_y.shape)\n",
        "    return train_x, train_y\n",
        "\n",
        "\n",
        "def mini_batch(X, Y, mini_batch_size, seed=0):\n",
        "    '''\n",
        "    将数据划分为minib\n",
        "    也根据数据发生改变了\n",
        "    '''\n",
        "    m = X.shape[0]\n",
        "    permutation = np.random.permutation(m)\n",
        "    shuffled_X = X[permutation, :, :, :]\n",
        "    shuffled_Y = Y[permutation, :]\n",
        "    batch_num = m // mini_batch_size\n",
        "    batches = []\n",
        "    for i in range(batch_num):\n",
        "        X_batch = shuffled_X[i*mini_batch_size:i*mini_batch_size+mini_batch_size, :, :, :]\n",
        "        Y_batch = shuffled_Y[i*mini_batch_size:i*mini_batch_size+mini_batch_size, :]\n",
        "        batch = (X_batch, Y_batch)\n",
        "        batches.append(batch)\n",
        "    if m % mini_batch_size != 0:\n",
        "        X_batch = shuffled_X[batch_num*mini_batch_size:m, :, :, :]\n",
        "        Y_batch = shuffled_Y[batch_num*mini_batch_size:m, :]\n",
        "        batch = (X_batch, Y_batch)\n",
        "        batches.append(batch)\n",
        "    return batches\n",
        "\n",
        "\n",
        "if __name__ == '__main__':\n",
        "    #最后结果训练正确率97%，测试85\n",
        "    #测试计算图也发生了一点变化，axis defalt0变为1\n",
        "    train_set_x, train_set_y = load_data()\n",
        "    y_mean = np.mean(train_set_y)\n",
        "    y_std = np.mean(train_set_y)\n",
        "    tf.constant(y_mean, name='y_mean')\n",
        "    tf.constant(y_std, name='y_std')\n",
        "    train_set_y = (train_set_y-y_mean) / y_std\n",
        "    m, n_H0, n_W0, n_C0 = train_set_x.shape\n",
        "    n_y = train_set_y.shape[1]\n",
        "    costs=[] #画图用 存放损失函数\n",
        "    batches = mini_batch(train_set_x[:601,:,:,:], train_set_y[:601,:], 16)\n",
        "\n",
        "    X, Y = creat_place_holder(n_H0, n_W0, n_C0, n_y)\n",
        "\n",
        "    parameter = initial_parameters()\n",
        "\n",
        "    Z3 = forward_propagation(X, parameter)\n",
        "\n",
        "    cost = compute_cost(Z3, Y)\n",
        "\n",
        "    optimer = tf.train.AdamOptimizer(learning_rate=0.00005).minimize(cost, name='op_cost')\n",
        "    print(optimer)\n",
        "    init = tf.global_variables_initializer()\n",
        "    num_minibatches = int(train_set_y.shape[0]/16)\n",
        "    with tf.Session() as sess:\n",
        "        sess.run(init)\n",
        "        for i in range(5000):\n",
        "            epoch_loss = 0\n",
        "            for mini_X, mini_Y in batches:\n",
        "                _, loss = sess.run([optimer, cost], feed_dict={X: mini_X, Y: mini_Y})\n",
        "                epoch_loss += loss / num_minibatches\n",
        "            if i % 20 == 0:\n",
        "                print('epoch', i, \":\", epoch_loss)\n",
        "                costs.append(epoch_loss)\n",
        "        parameter = sess.run(parameter)\n",
        "#         print(parameter['w1'][1, 1, 1])\n",
        "        tf.add_to_collection('forward', Z3)\n",
        "        saver = tf.train.Saver()\n",
        "        saver.save(sess, 'drive/deep_learning/save_model/my_model')\n",
        "        Z = sess.run(Z3, feed_dict={X:train_set_x[601:,:,:,:]})\n",
        "        result_z = Z*y_std+y_mean\n",
        "        big_z = train_set_y*y_std + y_mean\n",
        "        print(abs(result_z-big_z[601:,]))\n",
        "\n",
        "  \n",
        "    end_time = time.time()\n",
        "    print(end_time - start_time)\n",
        "    plt.plot(costs)\n",
        "    plt.show()"
      ],
      "execution_count": 0,
      "outputs": []
    },
    {
      "metadata": {
        "id": "yFBEkDSx6q8S",
        "colab_type": "code",
        "colab": {
          "autoexec": {
            "startup": false,
            "wait_interval": 0
          },
          "output_extras": [
            {
              "item_id": 1
            }
          ],
          "base_uri": "https://localhost:8080/",
          "height": 34
        },
        "outputId": "59384abc-30fa-4875-af2e-a7f49c85aa62",
        "executionInfo": {
          "status": "ok",
          "timestamp": 1517638229158,
          "user_tz": -480,
          "elapsed": 734,
          "user": {
            "displayName": "瞿可",
            "photoUrl": "https://lh3.googleusercontent.com/a/default-user=s128",
            "userId": "108256564357329071493"
          }
        }
      },
      "cell_type": "code",
      "source": [
        "import tensorflow as tf\n",
        "tf.test.gpu_device_name() \n"
      ],
      "execution_count": 15,
      "outputs": [
        {
          "output_type": "execute_result",
          "data": {
            "text/plain": [
              "'/device:GPU:0'"
            ]
          },
          "metadata": {
            "tags": []
          },
          "execution_count": 15
        }
      ]
    },
    {
      "metadata": {
        "id": "EN8tNVJM7yei",
        "colab_type": "code",
        "colab": {
          "autoexec": {
            "startup": false,
            "wait_interval": 0
          },
          "output_extras": [
            {
              "item_id": 2
            }
          ],
          "base_uri": "https://localhost:8080/",
          "height": 1042
        },
        "outputId": "1661f399-63c8-43bd-87f9-73dfb36aacd0",
        "executionInfo": {
          "status": "ok",
          "timestamp": 1517733241637,
          "user_tz": -480,
          "elapsed": 1726,
          "user": {
            "displayName": "瞿可",
            "photoUrl": "https://lh3.googleusercontent.com/a/default-user=s128",
            "userId": "108256564357329071493"
          }
        }
      },
      "cell_type": "code",
      "source": [
        "\n",
        "\n",
        "sess = tf.Session()\n",
        "## 这里是恢复graph\n",
        "saver = tf.train.import_meta_graph('drive/deep_learning/save_model/my_model.meta')\n",
        "## 这里是恢复各个权重参数\n",
        "saver.restore(sess, tf.train.latest_checkpoint('drive/deep_learning/save_model'))\n",
        "\n",
        "## 获取输入的tensor\n",
        "graph = tf.get_default_graph()\n",
        "\n",
        "X = graph.get_tensor_by_name('X:0')\n",
        "\n",
        "## 给定数据，运行encoder_op\n",
        "a = sess.run(Z3, feed_dict={X:train_set_x[:60,:,:,:]})\n",
        "y_mean, y_std = sess.run(['y_mean:0', 'y_std:0'])\n",
        "result_z = a*y_std+y_mean\n",
        "big_z = train_set_y*y_std + y_mean\n",
        "print(result_z-big_z[:60,:])"
      ],
      "execution_count": 8,
      "outputs": [
        {
          "output_type": "stream",
          "text": [
            "INFO:tensorflow:Restoring parameters from drive/deep_learning/save_model/my_model\n",
            "[[  17.07714844]\n",
            " [  25.26428223]\n",
            " [ 210.87390137]\n",
            " [ -96.91748047]\n",
            " [   7.70330811]\n",
            " [  55.87390137]\n",
            " [-323.12609863]\n",
            " [-167.12609863]\n",
            " [ 235.87390137]\n",
            " [ -16.73623657]\n",
            " [-148.12609863]\n",
            " [  37.13110352]\n",
            " [  61.87390137]\n",
            " [ -42.55581665]\n",
            " [  25.00445557]\n",
            " [ 195.87390137]\n",
            " [   3.92303467]\n",
            " [  -9.74719238]\n",
            " [ -18.12609863]\n",
            " [ -31.12609863]\n",
            " [ 202.87390137]\n",
            " [ -97.26034546]\n",
            " [ 211.87390137]\n",
            " [ 154.87390137]\n",
            " [ 172.87390137]\n",
            " [ -18.68243408]\n",
            " [ 210.87390137]\n",
            " [  27.38006592]\n",
            " [ -37.40106201]\n",
            " [ -71.35406494]\n",
            " [ -57.61669922]\n",
            " [  29.77026367]\n",
            " [ -76.3215332 ]\n",
            " [  53.87390137]\n",
            " [  12.59274292]\n",
            " [  17.12310791]\n",
            " [ -59.47045898]\n",
            " [ 169.87390137]\n",
            " [ 193.87390137]\n",
            " [-231.12609863]\n",
            " [ -22.77990723]\n",
            " [  31.36752319]\n",
            " [-104.12609863]\n",
            " [ -21.01812744]\n",
            " [ 206.87390137]\n",
            " [ 287.87390137]\n",
            " [ 267.87390137]\n",
            " [ -44.88098145]\n",
            " [  30.42721558]\n",
            " [ -86.39294434]\n",
            " [ -65.61010742]\n",
            " [-217.12609863]\n",
            " [-128.9942627 ]\n",
            " [ -53.12609863]\n",
            " [ 236.87390137]\n",
            " [  29.07611084]\n",
            " [   3.67596436]\n",
            " [ 167.87390137]\n",
            " [-140.70019531]\n",
            " [ -73.47961426]]\n"
          ],
          "name": "stdout"
        }
      ]
    },
    {
      "metadata": {
        "id": "78zDqgM29K3q",
        "colab_type": "code",
        "colab": {
          "autoexec": {
            "startup": false,
            "wait_interval": 0
          },
          "output_extras": [
            {
              "item_id": 7
            },
            {
              "item_id": 8
            }
          ],
          "base_uri": "https://localhost:8080/",
          "height": 1123
        },
        "outputId": "88f6903e-d564-45e5-e8c2-95a9ee1031d8",
        "executionInfo": {
          "status": "error",
          "timestamp": 1517735378522,
          "user_tz": -480,
          "elapsed": 30810,
          "user": {
            "displayName": "瞿可",
            "photoUrl": "https://lh3.googleusercontent.com/a/default-user=s128",
            "userId": "108256564357329071493"
          }
        }
      },
      "cell_type": "code",
      "source": [
        "import tensorflow as tf\n",
        "with tf.Session() as sess:\n",
        "    saver = tf.train.import_meta_graph('drive/deep_learning/save_model/my_model.meta')\n",
        "    saver.restore(sess, tf.train.latest_checkpoint('drive/deep_learning/save_model'))\n",
        "    graph = tf.get_default_graph()\n",
        "    cost = graph.get_tensor_by_name('compute_cost:0')\n",
        "    print(cost)\n",
        "    optimer = graph.get_operation_by_name('op_cost')\n",
        "    #optimer2 = tf.train.AdadeltaOptimizer(learning_rate=0.00001).minimize(cost)\n",
        "    print(optimer)\n",
        "    for i in range(200):\n",
        "        epoch_loss = 0\n",
        "        for mini_X, mini_Y in batches:\n",
        "            _, loss = sess.run([optimer, cost], feed_dict={X: mini_X, Y: mini_Y})\n",
        "            epoch_loss += loss / num_minibatches\n",
        "        if i % 20 == 0:\n",
        "            print('epoch', i, \":\", epoch_loss)\n",
        "            costs.append(epoch_loss)\n",
        "            \n",
        "    #已经有saver就不能创建了        \n",
        "    saver.save(sess, './drive/deep_learning/save_model/my_model')\n",
        "#     saver = tf.train.Saver()\n",
        "#     saver.save(sess, './drive/deep_learning/save_model/my_model')\n",
        "    Z = sess.run(Z3, feed_dict={X:train_set_x[641:,:,:,:]})\n",
        "    y_mean = sess.run('y_mean:0')\n",
        "    y_std = sess.run('y_std:0')\n",
        "    result_z = Z*y_std+y_mean\n",
        "    big_z = train_set_y*y_std + y_mean\n",
        "    print(abs(result_z-big_z[641:,]))"
      ],
      "execution_count": 36,
      "outputs": [
        {
          "output_type": "stream",
          "text": [
            "INFO:tensorflow:Restoring parameters from drive/deep_learning/save_model/my_model\n",
            "Tensor(\"compute_cost:0\", shape=(), dtype=float32)\n",
            "name: \"op_cost\"\n",
            "op: \"NoOp\"\n",
            "input: \"^op_cost/update_w1/ApplyAdam\"\n",
            "input: \"^op_cost/update_w2/ApplyAdam\"\n",
            "input: \"^op_cost/update_w3/ApplyAdam\"\n",
            "input: \"^op_cost/update_Z3/kernel/ApplyAdam\"\n",
            "input: \"^op_cost/update_Z3/bias/ApplyAdam\"\n",
            "input: \"^op_cost/Assign\"\n",
            "input: \"^op_cost/Assign_1\"\n",
            "\n",
            "epoch 0 : 0.04265898015970985\n",
            "epoch 20 : 0.04586300955131828\n",
            "epoch 40 : 0.038052263736192665\n",
            "epoch 60 : 0.04499051999300717\n",
            "epoch 80 : 0.043496449511232126\n"
          ],
          "name": "stdout"
        },
        {
          "output_type": "error",
          "ename": "KeyboardInterrupt",
          "evalue": "ignored",
          "traceback": [
            "\u001b[0;31m---------------------------------------------------------------------------\u001b[0m",
            "\u001b[0;31mKeyboardInterrupt\u001b[0m                         Traceback (most recent call last)",
            "\u001b[0;32m<ipython-input-36-6889675a2d01>\u001b[0m in \u001b[0;36m<module>\u001b[0;34m()\u001b[0m\n\u001b[1;32m     12\u001b[0m         \u001b[0mepoch_loss\u001b[0m \u001b[0;34m=\u001b[0m \u001b[0;36m0\u001b[0m\u001b[0;34m\u001b[0m\u001b[0m\n\u001b[1;32m     13\u001b[0m         \u001b[0;32mfor\u001b[0m \u001b[0mmini_X\u001b[0m\u001b[0;34m,\u001b[0m \u001b[0mmini_Y\u001b[0m \u001b[0;32min\u001b[0m \u001b[0mbatches\u001b[0m\u001b[0;34m:\u001b[0m\u001b[0;34m\u001b[0m\u001b[0m\n\u001b[0;32m---> 14\u001b[0;31m             \u001b[0m_\u001b[0m\u001b[0;34m,\u001b[0m \u001b[0mloss\u001b[0m \u001b[0;34m=\u001b[0m \u001b[0msess\u001b[0m\u001b[0;34m.\u001b[0m\u001b[0mrun\u001b[0m\u001b[0;34m(\u001b[0m\u001b[0;34m[\u001b[0m\u001b[0moptimer\u001b[0m\u001b[0;34m,\u001b[0m \u001b[0mcost\u001b[0m\u001b[0;34m]\u001b[0m\u001b[0;34m,\u001b[0m \u001b[0mfeed_dict\u001b[0m\u001b[0;34m=\u001b[0m\u001b[0;34m{\u001b[0m\u001b[0mX\u001b[0m\u001b[0;34m:\u001b[0m \u001b[0mmini_X\u001b[0m\u001b[0;34m,\u001b[0m \u001b[0mY\u001b[0m\u001b[0;34m:\u001b[0m \u001b[0mmini_Y\u001b[0m\u001b[0;34m}\u001b[0m\u001b[0;34m)\u001b[0m\u001b[0;34m\u001b[0m\u001b[0m\n\u001b[0m\u001b[1;32m     15\u001b[0m             \u001b[0mepoch_loss\u001b[0m \u001b[0;34m+=\u001b[0m \u001b[0mloss\u001b[0m \u001b[0;34m/\u001b[0m \u001b[0mnum_minibatches\u001b[0m\u001b[0;34m\u001b[0m\u001b[0m\n\u001b[1;32m     16\u001b[0m         \u001b[0;32mif\u001b[0m \u001b[0mi\u001b[0m \u001b[0;34m%\u001b[0m \u001b[0;36m20\u001b[0m \u001b[0;34m==\u001b[0m \u001b[0;36m0\u001b[0m\u001b[0;34m:\u001b[0m\u001b[0;34m\u001b[0m\u001b[0m\n",
            "\u001b[0;32m/usr/local/lib/python3.6/dist-packages/tensorflow/python/client/session.py\u001b[0m in \u001b[0;36mrun\u001b[0;34m(self, fetches, feed_dict, options, run_metadata)\u001b[0m\n\u001b[1;32m    887\u001b[0m     \u001b[0;32mtry\u001b[0m\u001b[0;34m:\u001b[0m\u001b[0;34m\u001b[0m\u001b[0m\n\u001b[1;32m    888\u001b[0m       result = self._run(None, fetches, feed_dict, options_ptr,\n\u001b[0;32m--> 889\u001b[0;31m                          run_metadata_ptr)\n\u001b[0m\u001b[1;32m    890\u001b[0m       \u001b[0;32mif\u001b[0m \u001b[0mrun_metadata\u001b[0m\u001b[0;34m:\u001b[0m\u001b[0;34m\u001b[0m\u001b[0m\n\u001b[1;32m    891\u001b[0m         \u001b[0mproto_data\u001b[0m \u001b[0;34m=\u001b[0m \u001b[0mtf_session\u001b[0m\u001b[0;34m.\u001b[0m\u001b[0mTF_GetBuffer\u001b[0m\u001b[0;34m(\u001b[0m\u001b[0mrun_metadata_ptr\u001b[0m\u001b[0;34m)\u001b[0m\u001b[0;34m\u001b[0m\u001b[0m\n",
            "\u001b[0;32m/usr/local/lib/python3.6/dist-packages/tensorflow/python/client/session.py\u001b[0m in \u001b[0;36m_run\u001b[0;34m(self, handle, fetches, feed_dict, options, run_metadata)\u001b[0m\n\u001b[1;32m   1118\u001b[0m     \u001b[0;32mif\u001b[0m \u001b[0mfinal_fetches\u001b[0m \u001b[0;32mor\u001b[0m \u001b[0mfinal_targets\u001b[0m \u001b[0;32mor\u001b[0m \u001b[0;34m(\u001b[0m\u001b[0mhandle\u001b[0m \u001b[0;32mand\u001b[0m \u001b[0mfeed_dict_tensor\u001b[0m\u001b[0;34m)\u001b[0m\u001b[0;34m:\u001b[0m\u001b[0;34m\u001b[0m\u001b[0m\n\u001b[1;32m   1119\u001b[0m       results = self._do_run(handle, final_targets, final_fetches,\n\u001b[0;32m-> 1120\u001b[0;31m                              feed_dict_tensor, options, run_metadata)\n\u001b[0m\u001b[1;32m   1121\u001b[0m     \u001b[0;32melse\u001b[0m\u001b[0;34m:\u001b[0m\u001b[0;34m\u001b[0m\u001b[0m\n\u001b[1;32m   1122\u001b[0m       \u001b[0mresults\u001b[0m \u001b[0;34m=\u001b[0m \u001b[0;34m[\u001b[0m\u001b[0;34m]\u001b[0m\u001b[0;34m\u001b[0m\u001b[0m\n",
            "\u001b[0;32m/usr/local/lib/python3.6/dist-packages/tensorflow/python/client/session.py\u001b[0m in \u001b[0;36m_do_run\u001b[0;34m(self, handle, target_list, fetch_list, feed_dict, options, run_metadata)\u001b[0m\n\u001b[1;32m   1315\u001b[0m     \u001b[0;32mif\u001b[0m \u001b[0mhandle\u001b[0m \u001b[0;32mis\u001b[0m \u001b[0;32mNone\u001b[0m\u001b[0;34m:\u001b[0m\u001b[0;34m\u001b[0m\u001b[0m\n\u001b[1;32m   1316\u001b[0m       return self._do_call(_run_fn, self._session, feeds, fetches, targets,\n\u001b[0;32m-> 1317\u001b[0;31m                            options, run_metadata)\n\u001b[0m\u001b[1;32m   1318\u001b[0m     \u001b[0;32melse\u001b[0m\u001b[0;34m:\u001b[0m\u001b[0;34m\u001b[0m\u001b[0m\n\u001b[1;32m   1319\u001b[0m       \u001b[0;32mreturn\u001b[0m \u001b[0mself\u001b[0m\u001b[0;34m.\u001b[0m\u001b[0m_do_call\u001b[0m\u001b[0;34m(\u001b[0m\u001b[0m_prun_fn\u001b[0m\u001b[0;34m,\u001b[0m \u001b[0mself\u001b[0m\u001b[0;34m.\u001b[0m\u001b[0m_session\u001b[0m\u001b[0;34m,\u001b[0m \u001b[0mhandle\u001b[0m\u001b[0;34m,\u001b[0m \u001b[0mfeeds\u001b[0m\u001b[0;34m,\u001b[0m \u001b[0mfetches\u001b[0m\u001b[0;34m)\u001b[0m\u001b[0;34m\u001b[0m\u001b[0m\n",
            "\u001b[0;32m/usr/local/lib/python3.6/dist-packages/tensorflow/python/client/session.py\u001b[0m in \u001b[0;36m_do_call\u001b[0;34m(self, fn, *args)\u001b[0m\n\u001b[1;32m   1321\u001b[0m   \u001b[0;32mdef\u001b[0m \u001b[0m_do_call\u001b[0m\u001b[0;34m(\u001b[0m\u001b[0mself\u001b[0m\u001b[0;34m,\u001b[0m \u001b[0mfn\u001b[0m\u001b[0;34m,\u001b[0m \u001b[0;34m*\u001b[0m\u001b[0margs\u001b[0m\u001b[0;34m)\u001b[0m\u001b[0;34m:\u001b[0m\u001b[0;34m\u001b[0m\u001b[0m\n\u001b[1;32m   1322\u001b[0m     \u001b[0;32mtry\u001b[0m\u001b[0;34m:\u001b[0m\u001b[0;34m\u001b[0m\u001b[0m\n\u001b[0;32m-> 1323\u001b[0;31m       \u001b[0;32mreturn\u001b[0m \u001b[0mfn\u001b[0m\u001b[0;34m(\u001b[0m\u001b[0;34m*\u001b[0m\u001b[0margs\u001b[0m\u001b[0;34m)\u001b[0m\u001b[0;34m\u001b[0m\u001b[0m\n\u001b[0m\u001b[1;32m   1324\u001b[0m     \u001b[0;32mexcept\u001b[0m \u001b[0merrors\u001b[0m\u001b[0;34m.\u001b[0m\u001b[0mOpError\u001b[0m \u001b[0;32mas\u001b[0m \u001b[0me\u001b[0m\u001b[0;34m:\u001b[0m\u001b[0;34m\u001b[0m\u001b[0m\n\u001b[1;32m   1325\u001b[0m       \u001b[0mmessage\u001b[0m \u001b[0;34m=\u001b[0m \u001b[0mcompat\u001b[0m\u001b[0;34m.\u001b[0m\u001b[0mas_text\u001b[0m\u001b[0;34m(\u001b[0m\u001b[0me\u001b[0m\u001b[0;34m.\u001b[0m\u001b[0mmessage\u001b[0m\u001b[0;34m)\u001b[0m\u001b[0;34m\u001b[0m\u001b[0m\n",
            "\u001b[0;32m/usr/local/lib/python3.6/dist-packages/tensorflow/python/client/session.py\u001b[0m in \u001b[0;36m_run_fn\u001b[0;34m(session, feed_dict, fetch_list, target_list, options, run_metadata)\u001b[0m\n\u001b[1;32m   1300\u001b[0m           return tf_session.TF_Run(session, options,\n\u001b[1;32m   1301\u001b[0m                                    \u001b[0mfeed_dict\u001b[0m\u001b[0;34m,\u001b[0m \u001b[0mfetch_list\u001b[0m\u001b[0;34m,\u001b[0m \u001b[0mtarget_list\u001b[0m\u001b[0;34m,\u001b[0m\u001b[0;34m\u001b[0m\u001b[0m\n\u001b[0;32m-> 1302\u001b[0;31m                                    status, run_metadata)\n\u001b[0m\u001b[1;32m   1303\u001b[0m \u001b[0;34m\u001b[0m\u001b[0m\n\u001b[1;32m   1304\u001b[0m     \u001b[0;32mdef\u001b[0m \u001b[0m_prun_fn\u001b[0m\u001b[0;34m(\u001b[0m\u001b[0msession\u001b[0m\u001b[0;34m,\u001b[0m \u001b[0mhandle\u001b[0m\u001b[0;34m,\u001b[0m \u001b[0mfeed_dict\u001b[0m\u001b[0;34m,\u001b[0m \u001b[0mfetch_list\u001b[0m\u001b[0;34m)\u001b[0m\u001b[0;34m:\u001b[0m\u001b[0;34m\u001b[0m\u001b[0m\n",
            "\u001b[0;31mKeyboardInterrupt\u001b[0m: "
          ]
        }
      ]
    },
    {
      "metadata": {
        "id": "gsENd53--NTZ",
        "colab_type": "code",
        "colab": {
          "autoexec": {
            "startup": false,
            "wait_interval": 0
          }
        }
      },
      "cell_type": "code",
      "source": [
        ""
      ],
      "execution_count": 0,
      "outputs": []
    },
    {
      "metadata": {
        "id": "i2jtouiL6YTX",
        "colab_type": "code",
        "colab": {
          "autoexec": {
            "startup": false,
            "wait_interval": 0
          }
        }
      },
      "cell_type": "code",
      "source": [
        ""
      ],
      "execution_count": 0,
      "outputs": []
    },
    {
      "metadata": {
        "id": "91rpXiT0Bd9W",
        "colab_type": "code",
        "colab": {
          "autoexec": {
            "startup": false,
            "wait_interval": 0
          }
        }
      },
      "cell_type": "code",
      "source": [
        "a = tf.Variable(3)"
      ],
      "execution_count": 0,
      "outputs": []
    },
    {
      "metadata": {
        "id": "ngsxUfcfD0hZ",
        "colab_type": "code",
        "colab": {
          "autoexec": {
            "startup": false,
            "wait_interval": 0
          },
          "output_extras": [
            {
              "item_id": 1
            }
          ],
          "base_uri": "https://localhost:8080/",
          "height": 34
        },
        "outputId": "a46bff86-ae3b-45a0-aeba-d4aca637330d",
        "executionInfo": {
          "status": "ok",
          "timestamp": 1517735073042,
          "user_tz": -480,
          "elapsed": 673,
          "user": {
            "displayName": "瞿可",
            "photoUrl": "https://lh3.googleusercontent.com/a/default-user=s128",
            "userId": "108256564357329071493"
          }
        }
      },
      "cell_type": "code",
      "source": [
        "a"
      ],
      "execution_count": 28,
      "outputs": [
        {
          "output_type": "execute_result",
          "data": {
            "text/plain": [
              "<tf.Variable 'Variable:0' shape=() dtype=int32_ref>"
            ]
          },
          "metadata": {
            "tags": []
          },
          "execution_count": 28
        }
      ]
    },
    {
      "metadata": {
        "id": "4B1CikkID1Il",
        "colab_type": "code",
        "colab": {
          "autoexec": {
            "startup": false,
            "wait_interval": 0
          },
          "output_extras": [
            {
              "item_id": 1
            }
          ],
          "base_uri": "https://localhost:8080/",
          "height": 67
        },
        "outputId": "9f822891-d7e6-4acf-f5a2-bebe5af50b22",
        "executionInfo": {
          "status": "ok",
          "timestamp": 1517735179686,
          "user_tz": -480,
          "elapsed": 2463,
          "user": {
            "displayName": "瞿可",
            "photoUrl": "https://lh3.googleusercontent.com/a/default-user=s128",
            "userId": "108256564357329071493"
          }
        }
      },
      "cell_type": "code",
      "source": [
        "with tf.Session() as sess:\n",
        "  sess.run(a.assign(30))\n",
        "  print(sess.run(a))\n",
        "  print(sess.run(a.initializer))\n",
        "  print(sess.run(a))\n",
        "  #说明了一执行初始化，变量值就变成最初的值了"
      ],
      "execution_count": 35,
      "outputs": [
        {
          "output_type": "stream",
          "text": [
            "30\n",
            "None\n",
            "3\n"
          ],
          "name": "stdout"
        }
      ]
    },
    {
      "metadata": {
        "id": "vHizN4i0D7xG",
        "colab_type": "code",
        "colab": {
          "autoexec": {
            "startup": false,
            "wait_interval": 0
          }
        }
      },
      "cell_type": "code",
      "source": [
        ""
      ],
      "execution_count": 0,
      "outputs": []
    }
  ]
}